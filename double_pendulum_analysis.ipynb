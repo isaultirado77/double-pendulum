{
 "cells": [
  {
   "cell_type": "markdown",
   "metadata": {},
   "source": [
    "# Péndulo Doble "
   ]
  },
  {
   "cell_type": "code",
   "execution_count": 14,
   "metadata": {},
   "outputs": [],
   "source": [
    "import numpy as np\n",
    "import matplotlib.pyplot as plt\n",
    "from double_pendulum_system import System"
   ]
  },
  {
   "cell_type": "code",
   "execution_count": 3,
   "metadata": {},
   "outputs": [],
   "source": [
    "def load_data(file_path=\"data/data.dat\"):\n",
    "    \"\"\"Carga los datos desde el archivo .dat\"\"\"\n",
    "    data = np.loadtxt(file_path, skiprows=1)\n",
    "    t, theta1, omega1, theta2, omega2, E_kin, E_pot, E_total = data.T\n",
    "    return t, theta1, omega1, theta2, omega2, E_kin, E_pot, E_total"
   ]
  },
  {
   "cell_type": "code",
   "execution_count": 17,
   "metadata": {},
   "outputs": [],
   "source": [
    "# Plotting functions\n",
    "\n",
    "def compute_cartesian_coords(theta1, theta2, L1, L2):\n",
    "    \"\"\"Convierte coordenadas angulares a cartesianas\"\"\"\n",
    "    x1 = L1 * np.sin(theta1)\n",
    "    y1 = -L1 * np.cos(theta1)\n",
    "    \n",
    "    x2 = x1 + L2 * np.sin(theta2)\n",
    "    y2 = y1 - L2 * np.cos(theta2)\n",
    "    \n",
    "    return x1, y1, x2, y2\n",
    "\n",
    "def plot_trajectories(theta1, theta2, L1=1, L2=1):\n",
    "    \"\"\"Grafica las trayectorias de ambas masas en el espacio cartesiano.\"\"\"\n",
    "    x1, y1, x2, y2 = compute_cartesian_coords(theta1, theta2, L1, L2)\n",
    "\n",
    "    plt.figure(figsize=(8, 6))\n",
    "    \n",
    "    plt.plot(x1, y1, label=\"Masa 1 (Extremo superior)\", color=\"b\")\n",
    "    plt.plot(x2, y2, label=\"Masa 2 (Extremo inferior)\", color=\"r\")\n",
    "    \n",
    "    plt.xlabel(\"X (m)\")\n",
    "    plt.ylabel(\"Y (m)\")\n",
    "    plt.title(\"Trayectorias de las masas\")\n",
    "    plt.legend()\n",
    "    plt.grid()\n",
    "    plt.axis(\"equal\")  # Para que las escalas sean proporcionales\n",
    "    \n",
    "    plt.show()\n",
    "\n",
    "\n",
    "def plot_positions(t, theta1, theta2):\n",
    "    \"\"\"Grafica las posiciones de las masas en un subplot 2x1.\"\"\"\n",
    "    fig, axs = plt.subplots(2, 1, figsize=(8, 6), sharex=True)\n",
    "    \n",
    "    axs[0].plot(t, theta1, label=r\"$\\theta_1$\", color=\"b\")\n",
    "    axs[0].set_ylabel(r\"$\\theta_1$ (rad)\")\n",
    "    axs[0].legend()\n",
    "    \n",
    "    axs[1].plot(t, theta2, label=r\"$\\theta_2$\", color=\"r\")\n",
    "    axs[1].set_ylabel(r\"$\\theta_2$ (rad)\")\n",
    "    axs[1].set_xlabel(\"Tiempo (s)\")\n",
    "    axs[1].legend()\n",
    "    \n",
    "    plt.suptitle(\"Posición angular de las masas\")\n",
    "    plt.show()\n",
    "\n",
    "def plot_theta1_vs_theta2(theta1, theta2):\n",
    "    \"\"\"Grafica theta_1 vs theta_2.\"\"\"\n",
    "    plt.figure(figsize=(6, 6))\n",
    "    plt.plot(theta1, theta2, color=\"purple\")\n",
    "    plt.xlabel(r\"$\\theta_1$ (rad)\")\n",
    "    plt.ylabel(r\"$\\theta_2$ (rad)\")\n",
    "    plt.title(r\"$\\theta_1$ vs $\\theta_2$\")\n",
    "    plt.grid()\n",
    "    plt.show()\n",
    "\n",
    "def plot_phase_space(t, theta1, omega1, theta2, omega2):\n",
    "    \"\"\"Grafica los espacios fase en subplots 2x1.\"\"\"\n",
    "    fig, axs = plt.subplots(2, 1, figsize=(8, 6), sharex=True)\n",
    "    \n",
    "    axs[0].plot(theta1, omega1, label=r\"$\\theta_1$ vs $\\omega_1$\", color=\"blue\")\n",
    "    axs[0].set_ylabel(r\"$\\omega_1$ (rad/s)\")\n",
    "    axs[0].legend()\n",
    "    \n",
    "    axs[1].plot(theta2, omega2, label=r\"$\\theta_2$ vs $\\omega_2$\", color=\"red\")\n",
    "    axs[1].set_ylabel(r\"$\\omega_2$ (rad/s)\")\n",
    "    axs[1].set_xlabel(r\"$\\theta$ (rad)\")\n",
    "    axs[1].legend()\n",
    "    \n",
    "    plt.suptitle(\"Espacio fase de cada masa\")\n",
    "    plt.show()\n",
    "\n",
    "def plot_energy(t, E_kin, E_pot, E_total):\n",
    "    \"\"\"Grafica la energía cinética y potencial en un subplot 2x1.\"\"\"\n",
    "    fig, axs = plt.subplots(2, 1, figsize=(8, 6), sharex=True)\n",
    "    \n",
    "    axs[0].plot(t, E_kin, label=\"Energía Cinética\", color=\"green\")\n",
    "    axs[0].plot(t, E_pot, label=\"Energía Potencial\", color=\"orange\", linestyle=\"--\")\n",
    "    axs[0].set_ylabel(\"Energía (J)\")\n",
    "    axs[0].legend()\n",
    "    \n",
    "    axs[1].plot(t, E_total, label=\"Energía Total\", color=\"black\")\n",
    "    axs[1].set_ylabel(\"Energía (J)\")\n",
    "    axs[1].set_xlabel(\"Tiempo (s)\")\n",
    "    axs[1].legend()\n",
    "    \n",
    "    plt.suptitle(\"Energía del sistema\")\n",
    "    plt.show()\n"
   ]
  },
  {
   "cell_type": "code",
   "execution_count": null,
   "metadata": {},
   "outputs": [],
   "source": [
    "# Simulation parameters\n",
    "m1, l1, theta1_init, omega1 = 1.0, 1.0, np.pi / 2, 0.0\n",
    "m2, l2, theta2_init, omega2 = 1.0, 1.0, np.pi / 2, 0.0\n",
    "dt = 0.01\n",
    "t_max = 10.0"
   ]
  },
  {
   "cell_type": "code",
   "execution_count": null,
   "metadata": {},
   "outputs": [],
   "source": [
    "system = System(m1, l1, theta1_init, omega1, m2, l2, theta2_init, omega2)\n",
    "system.simulate(t_max, dt)"
   ]
  },
  {
   "cell_type": "code",
   "execution_count": 10,
   "metadata": {},
   "outputs": [],
   "source": [
    "t, theta1, omega1, theta2, omega2, E_kin, E_pot, E_total = load_data()"
   ]
  },
  {
   "cell_type": "code",
   "execution_count": 22,
   "metadata": {},
   "outputs": [
    {
     "ename": "ValueError",
     "evalue": "x and y must have same first dimension, but have shapes (1000,) and (1,)",
     "output_type": "error",
     "traceback": [
      "\u001b[31m---------------------------------------------------------------------------\u001b[39m",
      "\u001b[31mValueError\u001b[39m                                Traceback (most recent call last)",
      "\u001b[36mCell\u001b[39m\u001b[36m \u001b[39m\u001b[32mIn[22]\u001b[39m\u001b[32m, line 2\u001b[39m\n\u001b[32m      1\u001b[39m \u001b[38;5;66;03m#plot_trajectories(theta1, theta2, l1, l2)\u001b[39;00m\n\u001b[32m----> \u001b[39m\u001b[32m2\u001b[39m \u001b[43mplot_positions\u001b[49m\u001b[43m(\u001b[49m\u001b[43mt\u001b[49m\u001b[43m,\u001b[49m\u001b[43m \u001b[49m\u001b[43mtheta1\u001b[49m\u001b[43m,\u001b[49m\u001b[43m \u001b[49m\u001b[43mtheta2\u001b[49m\u001b[43m)\u001b[49m\n\u001b[32m      3\u001b[39m plot_theta1_vs_theta2(theta1, theta2)\n\u001b[32m      4\u001b[39m plot_phase_space(t, theta1, omega1, theta2, omega2)\n",
      "\u001b[36mCell\u001b[39m\u001b[36m \u001b[39m\u001b[32mIn[17]\u001b[39m\u001b[32m, line 36\u001b[39m, in \u001b[36mplot_positions\u001b[39m\u001b[34m(t, theta1, theta2)\u001b[39m\n\u001b[32m     33\u001b[39m \u001b[38;5;250m\u001b[39m\u001b[33;03m\"\"\"Grafica las posiciones de las masas en un subplot 2x1.\"\"\"\u001b[39;00m\n\u001b[32m     34\u001b[39m fig, axs = plt.subplots(\u001b[32m2\u001b[39m, \u001b[32m1\u001b[39m, figsize=(\u001b[32m8\u001b[39m, \u001b[32m6\u001b[39m), sharex=\u001b[38;5;28;01mTrue\u001b[39;00m)\n\u001b[32m---> \u001b[39m\u001b[32m36\u001b[39m \u001b[43maxs\u001b[49m\u001b[43m[\u001b[49m\u001b[32;43m0\u001b[39;49m\u001b[43m]\u001b[49m\u001b[43m.\u001b[49m\u001b[43mplot\u001b[49m\u001b[43m(\u001b[49m\u001b[43mt\u001b[49m\u001b[43m,\u001b[49m\u001b[43m \u001b[49m\u001b[43mtheta1\u001b[49m\u001b[43m,\u001b[49m\u001b[43m \u001b[49m\u001b[43mlabel\u001b[49m\u001b[43m=\u001b[49m\u001b[33;43mr\u001b[39;49m\u001b[33;43m\"\u001b[39;49m\u001b[33;43m$\u001b[39;49m\u001b[33;43m\\\u001b[39;49m\u001b[33;43mtheta_1$\u001b[39;49m\u001b[33;43m\"\u001b[39;49m\u001b[43m,\u001b[49m\u001b[43m \u001b[49m\u001b[43mcolor\u001b[49m\u001b[43m=\u001b[49m\u001b[33;43m\"\u001b[39;49m\u001b[33;43mb\u001b[39;49m\u001b[33;43m\"\u001b[39;49m\u001b[43m)\u001b[49m\n\u001b[32m     37\u001b[39m axs[\u001b[32m0\u001b[39m].set_ylabel(\u001b[33mr\u001b[39m\u001b[33m\"\u001b[39m\u001b[33m$\u001b[39m\u001b[33m\\\u001b[39m\u001b[33mtheta_1$ (rad)\u001b[39m\u001b[33m\"\u001b[39m)\n\u001b[32m     38\u001b[39m axs[\u001b[32m0\u001b[39m].legend()\n",
      "\u001b[36mFile \u001b[39m\u001b[32mc:\\Users\\isaul\\Documents\\image-processing-main\\virt_imp\\Lib\\site-packages\\matplotlib\\axes\\_axes.py:1777\u001b[39m, in \u001b[36mAxes.plot\u001b[39m\u001b[34m(self, scalex, scaley, data, *args, **kwargs)\u001b[39m\n\u001b[32m   1534\u001b[39m \u001b[38;5;250m\u001b[39m\u001b[33;03m\"\"\"\u001b[39;00m\n\u001b[32m   1535\u001b[39m \u001b[33;03mPlot y versus x as lines and/or markers.\u001b[39;00m\n\u001b[32m   1536\u001b[39m \n\u001b[32m   (...)\u001b[39m\u001b[32m   1774\u001b[39m \u001b[33;03m(``'green'``) or hex strings (``'#008000'``).\u001b[39;00m\n\u001b[32m   1775\u001b[39m \u001b[33;03m\"\"\"\u001b[39;00m\n\u001b[32m   1776\u001b[39m kwargs = cbook.normalize_kwargs(kwargs, mlines.Line2D)\n\u001b[32m-> \u001b[39m\u001b[32m1777\u001b[39m lines = [*\u001b[38;5;28mself\u001b[39m._get_lines(\u001b[38;5;28mself\u001b[39m, *args, data=data, **kwargs)]\n\u001b[32m   1778\u001b[39m \u001b[38;5;28;01mfor\u001b[39;00m line \u001b[38;5;129;01min\u001b[39;00m lines:\n\u001b[32m   1779\u001b[39m     \u001b[38;5;28mself\u001b[39m.add_line(line)\n",
      "\u001b[36mFile \u001b[39m\u001b[32mc:\\Users\\isaul\\Documents\\image-processing-main\\virt_imp\\Lib\\site-packages\\matplotlib\\axes\\_base.py:297\u001b[39m, in \u001b[36m_process_plot_var_args.__call__\u001b[39m\u001b[34m(self, axes, data, return_kwargs, *args, **kwargs)\u001b[39m\n\u001b[32m    295\u001b[39m     this += args[\u001b[32m0\u001b[39m],\n\u001b[32m    296\u001b[39m     args = args[\u001b[32m1\u001b[39m:]\n\u001b[32m--> \u001b[39m\u001b[32m297\u001b[39m \u001b[38;5;28;01myield from\u001b[39;00m \u001b[38;5;28;43mself\u001b[39;49m\u001b[43m.\u001b[49m\u001b[43m_plot_args\u001b[49m\u001b[43m(\u001b[49m\n\u001b[32m    298\u001b[39m \u001b[43m    \u001b[49m\u001b[43maxes\u001b[49m\u001b[43m,\u001b[49m\u001b[43m \u001b[49m\u001b[43mthis\u001b[49m\u001b[43m,\u001b[49m\u001b[43m \u001b[49m\u001b[43mkwargs\u001b[49m\u001b[43m,\u001b[49m\u001b[43m \u001b[49m\u001b[43mambiguous_fmt_datakey\u001b[49m\u001b[43m=\u001b[49m\u001b[43mambiguous_fmt_datakey\u001b[49m\u001b[43m,\u001b[49m\n\u001b[32m    299\u001b[39m \u001b[43m    \u001b[49m\u001b[43mreturn_kwargs\u001b[49m\u001b[43m=\u001b[49m\u001b[43mreturn_kwargs\u001b[49m\n\u001b[32m    300\u001b[39m \u001b[43m\u001b[49m\u001b[43m)\u001b[49m\n",
      "\u001b[36mFile \u001b[39m\u001b[32mc:\\Users\\isaul\\Documents\\image-processing-main\\virt_imp\\Lib\\site-packages\\matplotlib\\axes\\_base.py:494\u001b[39m, in \u001b[36m_process_plot_var_args._plot_args\u001b[39m\u001b[34m(self, axes, tup, kwargs, return_kwargs, ambiguous_fmt_datakey)\u001b[39m\n\u001b[32m    491\u001b[39m     axes.yaxis.update_units(y)\n\u001b[32m    493\u001b[39m \u001b[38;5;28;01mif\u001b[39;00m x.shape[\u001b[32m0\u001b[39m] != y.shape[\u001b[32m0\u001b[39m]:\n\u001b[32m--> \u001b[39m\u001b[32m494\u001b[39m     \u001b[38;5;28;01mraise\u001b[39;00m \u001b[38;5;167;01mValueError\u001b[39;00m(\u001b[33mf\u001b[39m\u001b[33m\"\u001b[39m\u001b[33mx and y must have same first dimension, but \u001b[39m\u001b[33m\"\u001b[39m\n\u001b[32m    495\u001b[39m                      \u001b[33mf\u001b[39m\u001b[33m\"\u001b[39m\u001b[33mhave shapes \u001b[39m\u001b[38;5;132;01m{\u001b[39;00mx.shape\u001b[38;5;132;01m}\u001b[39;00m\u001b[33m and \u001b[39m\u001b[38;5;132;01m{\u001b[39;00my.shape\u001b[38;5;132;01m}\u001b[39;00m\u001b[33m\"\u001b[39m)\n\u001b[32m    496\u001b[39m \u001b[38;5;28;01mif\u001b[39;00m x.ndim > \u001b[32m2\u001b[39m \u001b[38;5;129;01mor\u001b[39;00m y.ndim > \u001b[32m2\u001b[39m:\n\u001b[32m    497\u001b[39m     \u001b[38;5;28;01mraise\u001b[39;00m \u001b[38;5;167;01mValueError\u001b[39;00m(\u001b[33mf\u001b[39m\u001b[33m\"\u001b[39m\u001b[33mx and y can be no greater than 2D, but have \u001b[39m\u001b[33m\"\u001b[39m\n\u001b[32m    498\u001b[39m                      \u001b[33mf\u001b[39m\u001b[33m\"\u001b[39m\u001b[33mshapes \u001b[39m\u001b[38;5;132;01m{\u001b[39;00mx.shape\u001b[38;5;132;01m}\u001b[39;00m\u001b[33m and \u001b[39m\u001b[38;5;132;01m{\u001b[39;00my.shape\u001b[38;5;132;01m}\u001b[39;00m\u001b[33m\"\u001b[39m)\n",
      "\u001b[31mValueError\u001b[39m: x and y must have same first dimension, but have shapes (1000,) and (1,)"
     ]
    },
    {
     "data": {
      "image/png": "[encoded data removed]",
      "text/plain": [
       "<Figure size 800x600 with 2 Axes>"
      ]
     },
     "metadata": {},
     "output_type": "display_data"
    }
   ],
   "source": [
    "#plot_trajectories(theta1, theta2, l1, l2)\n",
    "plot_positions(t, theta1, theta2)\n",
    "plot_theta1_vs_theta2(theta1, theta2)\n",
    "plot_phase_space(t, theta1, omega1, theta2, omega2)\n",
    "plot_energy(t, E_kin, E_pot, E_total)"
   ]
  },
  {
   "cell_type": "code",
   "execution_count": null,
   "metadata": {},
   "outputs": [],
   "source": []
  }
 ],
 "metadata": {
  "kernelspec": {
   "display_name": "Python (virt_imp)",
   "language": "python",
   "name": "virt_imp"
  },
  "language_info": {
   "codemirror_mode": {
    "name": "ipython",
    "version": 3
   },
   "file_extension": ".py",
   "mimetype": "text/x-python",
   "name": "python",
   "nbconvert_exporter": "python",
   "pygments_lexer": "ipython3",
   "version": "3.12.4"
  }
 },
 "nbformat": 4,
 "nbformat_minor": 2
}
